{
 "cells": [
  {
   "cell_type": "markdown",
   "metadata": {},
   "source": [
    "# create environment and check  library\n",
    "python -m venv yolov8-mnc\n",
    "yolov8-mnc\\Scripts\\activate\n",
    "pip install --upgrade pip\n",
    "pip install ultralytics opencv-python matplotlib scikit-learn ipykernel\n",
    "python -m ipykernel install --user --name yolov8-mnc --display-name \"YOLOv8-MNC (py3.12)\""
   ]
  },
  {
   "cell_type": "markdown",
   "metadata": {},
   "source": [
    "# test environment \n"
   ]
  },
  {
   "cell_type": "code",
   "execution_count": null,
   "metadata": {},
   "outputs": [],
   "source": [
    "import sys\n",
    "import torch\n",
    "import ultralytics\n",
    "print(\"Python version:\", sys.version)\n",
    "print(\"Ultralytics version:\", ultralytics.__version__)\n",
    "print(\"Torch version:\", torch.__version__)\n",
    "print(\"CUDA available:\", torch.cuda.is_available())\n"
   ]
  },
  {
   "cell_type": "markdown",
   "metadata": {},
   "source": [
    "# Annotation Check"
   ]
  },
  {
   "cell_type": "code",
   "execution_count": 1,
   "metadata": {},
   "outputs": [
    {
     "ename": "FileNotFoundError",
     "evalue": "[WinError 3] The system cannot find the path specified: 'remove_duplicate_image/Cigarette-Detection/images'",
     "output_type": "error",
     "traceback": [
      "\u001b[31m---------------------------------------------------------------------------\u001b[39m",
      "\u001b[31mFileNotFoundError\u001b[39m                         Traceback (most recent call last)",
      "\u001b[36mCell\u001b[39m\u001b[36m \u001b[39m\u001b[32mIn[1]\u001b[39m\u001b[32m, line 6\u001b[39m\n\u001b[32m      3\u001b[39m images_dir = \u001b[33m'\u001b[39m\u001b[33mremove_duplicate_image/Cigarette-Detection/images\u001b[39m\u001b[33m'\u001b[39m\n\u001b[32m      4\u001b[39m labels_dir = \u001b[33m'\u001b[39m\u001b[33mremove_duplicate_image/Cigarette-Detection/labels\u001b[39m\u001b[33m'\u001b[39m\n\u001b[32m----> \u001b[39m\u001b[32m6\u001b[39m image_files = \u001b[38;5;28msorted\u001b[39m([f \u001b[38;5;28;01mfor\u001b[39;00m f \u001b[38;5;129;01min\u001b[39;00m \u001b[43mos\u001b[49m\u001b[43m.\u001b[49m\u001b[43mlistdir\u001b[49m\u001b[43m(\u001b[49m\u001b[43mimages_dir\u001b[49m\u001b[43m)\u001b[49m \u001b[38;5;28;01mif\u001b[39;00m f.endswith(\u001b[33m'\u001b[39m\u001b[33m.jpg\u001b[39m\u001b[33m'\u001b[39m)])\n\u001b[32m      7\u001b[39m label_files = \u001b[38;5;28msorted\u001b[39m([f \u001b[38;5;28;01mfor\u001b[39;00m f \u001b[38;5;129;01min\u001b[39;00m os.listdir(labels_dir) \u001b[38;5;28;01mif\u001b[39;00m f.endswith(\u001b[33m'\u001b[39m\u001b[33m.txt\u001b[39m\u001b[33m'\u001b[39m)])\n\u001b[32m      9\u001b[39m \u001b[38;5;28mprint\u001b[39m(\u001b[33mf\u001b[39m\u001b[33m\"\u001b[39m\u001b[33mImages: \u001b[39m\u001b[38;5;132;01m{\u001b[39;00m\u001b[38;5;28mlen\u001b[39m(image_files)\u001b[38;5;132;01m}\u001b[39;00m\u001b[33m, Labels: \u001b[39m\u001b[38;5;132;01m{\u001b[39;00m\u001b[38;5;28mlen\u001b[39m(label_files)\u001b[38;5;132;01m}\u001b[39;00m\u001b[33m\"\u001b[39m)\n",
      "\u001b[31mFileNotFoundError\u001b[39m: [WinError 3] The system cannot find the path specified: 'remove_duplicate_image/Cigarette-Detection/images'"
     ]
    }
   ],
   "source": [
    "import os\n",
    "\n",
    "images_dir = 'remove_duplicate_image/Cigarette-Detection/images'\n",
    "labels_dir = 'remove_duplicate_image/Cigarette-Detection/labels'\n",
    "\n",
    "image_files = sorted([f for f in os.listdir(images_dir) if f.endswith('.jpg')])\n",
    "label_files = sorted([f for f in os.listdir(labels_dir) if f.endswith('.txt')])\n",
    "\n",
    "print(f\"Images: {len(image_files)}, Labels: {len(label_files)}\")\n",
    "\n",
    "images_without_labels = []\n",
    "labels_without_images = []\n",
    "\n",
    "for img in image_files:\n",
    "    label = os.path.splitext(img)[0] + '.txt'\n",
    "    if not os.path.exists(os.path.join(labels_dir, label)):\n",
    "        images_without_labels.append(img)\n",
    "\n",
    "for lbl in label_files:\n",
    "    image = os.path.splitext(lbl)[0] + '.jpg'\n",
    "    if not os.path.exists(os.path.join(images_dir, image)):\n",
    "        labels_without_images.append(lbl)\n",
    "\n",
    "print(\"Images without label:\", images_without_labels[:5])\n",
    "print(\"Labels without image:\", labels_without_images[:5])\n"
   ]
  },
  {
   "cell_type": "markdown",
   "metadata": {},
   "source": [
    "# Train/Val Split"
   ]
  },
  {
   "cell_type": "code",
   "execution_count": null,
   "metadata": {},
   "outputs": [],
   "source": [
    "import shutil\n",
    "from sklearn.model_selection import train_test_split\n",
    "\n",
    "# Only keep images that have matching labels\n",
    "images_with_labels = [f for f in image_files if os.path.exists(os.path.join(labels_dir, os.path.splitext(f)[0] + '.txt'))]\n",
    "\n",
    "train_imgs, val_imgs = train_test_split(images_with_labels, test_size=0.2, random_state=42, shuffle=True)\n",
    "\n",
    "print(f\"Train: {len(train_imgs)}, Val: {len(val_imgs)}\")\n",
    "\n",
    "for split in ['train', 'val']:\n",
    "    os.makedirs(f'dataset/images/{split}', exist_ok=True)\n",
    "    os.makedirs(f'dataset/labels/{split}', exist_ok=True)\n",
    "\n",
    "def move_split(img_list, split):\n",
    "    for img in img_list:\n",
    "        lbl = os.path.splitext(img)[0] + '.txt'\n",
    "        shutil.copy(os.path.join(images_dir, img), f'dataset/images/{split}/{img}')\n",
    "        shutil.copy(os.path.join(labels_dir, lbl), f'dataset/labels/{split}/{lbl}')\n",
    "\n",
    "move_split(train_imgs, 'train')\n",
    "move_split(val_imgs, 'val')\n"
   ]
  },
  {
   "cell_type": "markdown",
   "metadata": {},
   "source": [
    "# Create data.yaml"
   ]
  },
  {
   "cell_type": "code",
   "execution_count": null,
   "metadata": {},
   "outputs": [],
   "source": [
    "yaml_content = \"\"\"\n",
    "path: dataset\n",
    "train: images/train\n",
    "val: images/val\n",
    "\n",
    "names:\n",
    "  0: cigarette\n",
    "\"\"\"\n",
    "\n",
    "with open('dataset/data.yaml', 'w') as f:\n",
    "    f.write(yaml_content)\n",
    "\n",
    "print(\"Created dataset/data.yaml!\")\n"
   ]
  },
  {
   "cell_type": "markdown",
   "metadata": {},
   "source": [
    "# Visualize Example Annotation"
   ]
  },
  {
   "cell_type": "code",
   "execution_count": null,
   "metadata": {},
   "outputs": [],
   "source": [
    "import cv2\n",
    "import matplotlib.pyplot as plt\n",
    "\n",
    "def show_annotated(idx=0, split='train'):\n",
    "    img_folder = f'dataset/images/{split}'\n",
    "    lbl_folder = f'dataset/labels/{split}'\n",
    "    imgs = sorted(os.listdir(img_folder))\n",
    "    if not imgs:\n",
    "        print(\"No images found!\")\n",
    "        return\n",
    "    img_path = os.path.join(img_folder, imgs[idx])\n",
    "    lbl_path = os.path.join(lbl_folder, os.path.splitext(imgs[idx])[0] + '.txt')\n",
    "\n",
    "    img = cv2.imread(img_path)\n",
    "    img = cv2.cvtColor(img, cv2.COLOR_BGR2RGB)\n",
    "    h, w, _ = img.shape\n",
    "\n",
    "    with open(lbl_path) as f:\n",
    "        for line in f:\n",
    "            parts = line.strip().split()\n",
    "            if len(parts) < 5:\n",
    "                continue\n",
    "            c, x, y, bw, bh = map(float, parts)\n",
    "            x1 = int((x - bw/2) * w)\n",
    "            y1 = int((y - bh/2) * h)\n",
    "            x2 = int((x + bw/2) * w)\n",
    "            y2 = int((y + bh/2) * h)\n",
    "            cv2.rectangle(img, (x1, y1), (x2, y2), (255, 0, 0), 2)\n",
    "            cv2.putText(img, 'cigarette', (x1, y1-5), cv2.FONT_HERSHEY_SIMPLEX, 0.5, (255,0,0), 1)\n",
    "    plt.figure(figsize=(6,6))\n",
    "    plt.imshow(img)\n",
    "    plt.axis('off')\n",
    "    plt.show()\n",
    "\n",
    "show_annotated(0, 'train')\n"
   ]
  },
  {
   "cell_type": "markdown",
   "metadata": {},
   "source": [
    "# Train YOLOv8-MNC"
   ]
  },
  {
   "cell_type": "code",
   "execution_count": null,
   "metadata": {},
   "outputs": [],
   "source": [
    "from ultralytics import YOLO\n",
    "\n",
    "model = YOLO('yolov8mnc.pt')  # Make sure you have the correct YOLOv8-MNC weights file\n",
    "\n",
    "model.train(\n",
    "    data='dataset/data.yaml',\n",
    "    epochs=400,\n",
    "    imgsz=640,\n",
    "    batch=32,     # Adjust for your VRAM\n",
    "    device=0      # 'cpu' if no GPU\n",
    ")\n"
   ]
  }
 ],
 "metadata": {
  "kernelspec": {
   "display_name": "Python 3",
   "language": "python",
   "name": "python3"
  },
  "language_info": {
   "codemirror_mode": {
    "name": "ipython",
    "version": 3
   },
   "file_extension": ".py",
   "mimetype": "text/x-python",
   "name": "python",
   "nbconvert_exporter": "python",
   "pygments_lexer": "ipython3",
   "version": "3.13.2"
  }
 },
 "nbformat": 4,
 "nbformat_minor": 2
}
